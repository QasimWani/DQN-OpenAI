{
 "cells": [
  {
   "cell_type": "code",
   "execution_count": 1,
   "metadata": {},
   "outputs": [
    {
     "name": "stderr",
     "output_type": "stream",
     "text": [
      "Using TensorFlow backend.\n"
     ]
    }
   ],
   "source": [
    "import gym\n",
    "from collections import defaultdict, deque\n",
    "import numpy as np\n",
    "import matplotlib.pyplot as plt\n",
    "import sys\n",
    "import tensorflow as tf\n",
    "import keras as K\n",
    "import Box2D"
   ]
  },
  {
   "cell_type": "code",
   "execution_count": 2,
   "metadata": {},
   "outputs": [],
   "source": [
    "env_id = 'LunarLander-v2'\n",
    "env = gym.make(env_id)"
   ]
  },
  {
   "cell_type": "code",
   "execution_count": 3,
   "metadata": {},
   "outputs": [
    {
     "data": {
      "text/plain": [
       "Box(8,)"
      ]
     },
     "execution_count": 3,
     "metadata": {},
     "output_type": "execute_result"
    }
   ],
   "source": [
    "env.observation_space #continuous with 8 observations for each state"
   ]
  },
  {
   "cell_type": "code",
   "execution_count": 4,
   "metadata": {},
   "outputs": [
    {
     "data": {
      "text/plain": [
       "Discrete(4)"
      ]
     },
     "execution_count": 4,
     "metadata": {},
     "output_type": "execute_result"
    }
   ],
   "source": [
    "env.action_space #discrete with 4 actions"
   ]
  },
  {
   "cell_type": "markdown",
   "metadata": {},
   "source": [
    "### Launchpad position: (0, 0)\n",
    "\n",
    "### State Space:\n",
    "<ol>\n",
    "    <li>X position</li>\n",
    "    <li>Y Position</li>\n",
    "    <li>Linear Velocity (X)</li>\n",
    "    <li>Linear Velocity (Y)</li>\n",
    "    <li>Lander Angle</li>\n",
    "    <li>Scaled Angular Velocity</li>\n",
    "    <li>(bool) leg 0 (right) made contact, 1 = True</li>\n",
    "    <li>(bool) leg 1 (left) made contact, 1 = True</li>\n",
    "</ol>\n",
    "\n",
    "### Action Space:\n",
    "<ol>\n",
    "    <li>Do nothing</li>\n",
    "    <li>Fire Left Orientation Engine</li>\n",
    "    <li>Fire Main Engine</li>\n",
    "    <li>Fire Right Orientation Engine</li>\n",
    "</ol>\n",
    "\n",
    "### Reward Scheme: \n",
    "<ol>\n",
    "    <li>Crash: -100</li>\n",
    "    <li>Rest: +100</li>\n",
    "    <li>Contact: +10 (each leg)</li>\n",
    "    <li>Main Engine: -0.3/frame</li>\n",
    "    <li>Side Engine: -0.03/frame</li>\n",
    "    <li>Solved: 200</li>\n",
    "</ol>\n",
    "\n",
    "### Episode will terminate if the agent either crashes (-100) or lands (+100). Infinite timesteps (still episodic)\n",
    "\n",
    "# Solved if reward of 200 over 100 consecutive trials"
   ]
  },
  {
   "cell_type": "markdown",
   "metadata": {},
   "source": [
    "### Running an agent using equirprobable random policy π"
   ]
  },
  {
   "cell_type": "code",
   "execution_count": 5,
   "metadata": {},
   "outputs": [
    {
     "name": "stdout",
     "output_type": "stream",
     "text": [
      "Reward: -100\n",
      "Iteration #: 65\n",
      "Ending state:\n",
      "[-0.3065277   0.10705656  0.16789323 -0.15625185  0.6171439   1.8931484\n",
      "  0.          1.        ]\n"
     ]
    }
   ],
   "source": [
    "env.reset()\n",
    "total_reward = 0\n",
    "for i in range(1000):\n",
    "    action = env.action_space.sample()\n",
    "    state, reward, done, info = env.step(action)\n",
    "    total_reward += reward\n",
    "    env.render() #sudo-human\n",
    "    if(done):\n",
    "        break\n",
    "print(\"Reward: {}\\nIteration #: {}\\nEnding state:\\n{}\".format(reward, i, state))"
   ]
  },
  {
   "cell_type": "code",
   "execution_count": null,
   "metadata": {},
   "outputs": [],
   "source": []
  },
  {
   "cell_type": "code",
   "execution_count": null,
   "metadata": {},
   "outputs": [],
   "source": []
  }
 ],
 "metadata": {
  "kernelspec": {
   "display_name": "Python 3",
   "language": "python",
   "name": "python3"
  },
  "language_info": {
   "codemirror_mode": {
    "name": "ipython",
    "version": 3
   },
   "file_extension": ".py",
   "mimetype": "text/x-python",
   "name": "python",
   "nbconvert_exporter": "python",
   "pygments_lexer": "ipython3",
   "version": "3.7.6"
  }
 },
 "nbformat": 4,
 "nbformat_minor": 4
}
