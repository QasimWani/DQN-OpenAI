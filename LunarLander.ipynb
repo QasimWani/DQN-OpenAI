{
 "cells": [
  {
   "cell_type": "code",
   "execution_count": 1,
   "metadata": {},
   "outputs": [
    {
     "name": "stderr",
     "output_type": "stream",
     "text": [
      "Using TensorFlow backend.\n"
     ]
    }
   ],
   "source": [
    "import gym\n",
    "from collections import defaultdict, deque\n",
    "import numpy as np\n",
    "import matplotlib.pyplot as plt\n",
    "import sys\n",
    "import pandas as pd\n",
    "import tensorflow as tf\n",
    "from keras import Sequential, layers, optimizers\n",
    "from keras.utils.vis_utils import plot_model\n",
    "import random\n",
    "import Box2D\n",
    "from tqdm import tqdm"
   ]
  },
  {
   "cell_type": "code",
   "execution_count": 2,
   "metadata": {},
   "outputs": [],
   "source": [
    "env_id = 'LunarLander-v2'\n",
    "env = gym.make(env_id)"
   ]
  },
  {
   "cell_type": "code",
   "execution_count": 3,
   "metadata": {},
   "outputs": [
    {
     "data": {
      "text/plain": [
       "Box(8,)"
      ]
     },
     "execution_count": 3,
     "metadata": {},
     "output_type": "execute_result"
    }
   ],
   "source": [
    "env.observation_space #continuous with 8 observations for each state"
   ]
  },
  {
   "cell_type": "code",
   "execution_count": 4,
   "metadata": {},
   "outputs": [
    {
     "data": {
      "text/plain": [
       "Discrete(4)"
      ]
     },
     "execution_count": 4,
     "metadata": {},
     "output_type": "execute_result"
    }
   ],
   "source": [
    "env.action_space #discrete with 4 actions"
   ]
  },
  {
   "cell_type": "markdown",
   "metadata": {},
   "source": [
    "### Launchpad position: (0, 0)\n",
    "\n",
    "### State Space:\n",
    "<ol>\n",
    "    <li>X position</li>\n",
    "    <li>Y Position</li>\n",
    "    <li>Linear Velocity (X)</li>\n",
    "    <li>Linear Velocity (Y)</li>\n",
    "    <li>Lander Angle</li>\n",
    "    <li>Scaled Angular Velocity</li>\n",
    "    <li>(bool) leg 0 (right) made contact, 1 = True</li>\n",
    "    <li>(bool) leg 1 (left) made contact, 1 = True</li>\n",
    "</ol>\n",
    "\n",
    "### Action Space:\n",
    "<ol>\n",
    "    <li>Do nothing</li>\n",
    "    <li>Fire Left Orientation Engine</li>\n",
    "    <li>Fire Main Engine</li>\n",
    "    <li>Fire Right Orientation Engine</li>\n",
    "</ol>\n",
    "\n",
    "### Reward Scheme: \n",
    "<ol>\n",
    "    <li>Crash: -100</li>\n",
    "    <li>Rest: +100</li>\n",
    "    <li>Contact: +10 (each leg)</li>\n",
    "    <li>Main Engine: -0.3/frame</li>\n",
    "    <li>Side Engine: -0.03/frame</li>\n",
    "    <li>Solved: 200</li>\n",
    "</ol>\n",
    "\n",
    "##### Episode will terminate if the agent either crashes (-100) or lands (+100). Infinite timesteps (still episodic)\n",
    "\n",
    "#### Solved if reward of 200 over 100 consecutive trials"
   ]
  },
  {
   "cell_type": "markdown",
   "metadata": {},
   "source": [
    "### Running an agent using equirprobable random policy π"
   ]
  },
  {
   "cell_type": "code",
   "execution_count": 5,
   "metadata": {},
   "outputs": [
    {
     "name": "stdout",
     "output_type": "stream",
     "text": [
      "Reward: -100\n",
      "Iteration #: 71\n",
      "Ending state:\n",
      "[ 0.087887   -0.04105749  0.18367979 -0.8844754   0.02087746 -4.8597927\n",
      "  1.          0.        ]\n"
     ]
    }
   ],
   "source": [
    "env.reset()\n",
    "total_reward = 0\n",
    "for i in range(1000):\n",
    "    action = env.action_space.sample()\n",
    "    state, reward, done, info = env.step(action)\n",
    "    total_reward += reward\n",
    "    #env.render() #sudo-human\n",
    "    if(done):\n",
    "        break\n",
    "print(\"Reward: {}\\nIteration #: {}\\nEnding state:\\n{}\".format(reward, i, state))"
   ]
  },
  {
   "cell_type": "code",
   "execution_count": 6,
   "metadata": {},
   "outputs": [],
   "source": [
    "class DQNAgent():\n",
    "    def __init__(self, env, buffer_len=10_000, gamma=1.0, mini_batch_size=64, MIN_MEMORY_REPLAY_SIZE=5000, UPDATE_TARGET_EVERY=5):\n",
    "        \n",
    "        #get action and state size\n",
    "        self.action_size = env.action_space.n#4\n",
    "        self.state_size = env.observation_space.shape[0]#8\n",
    "\n",
    "        #Discounted Return\n",
    "        self.gamma = gamma\n",
    "        \n",
    "        #Main Model (Q)\n",
    "        self.model = self.create_model() #build model with 3 hidden layers (L1, L2 = 32; output = 4 hidden units)\n",
    "        \n",
    "        # Target Network\n",
    "        self.target_model = self.create_model() #(Q-target)\n",
    "        self.target_model.set_weights(self.model.get_weights()) #initialize TD target with same weight as Q.\n",
    "        \n",
    "        #Experience Replay\n",
    "        self.memory_replay = deque(maxlen=buffer_len) #initialize experience replay buffer (circular)\n",
    "        self.MIN_MEMORY_REPLAY_SIZE = MIN_MEMORY_REPLAY_SIZE\n",
    "        #Define mini-batch size for learning\n",
    "        self.batch_size = mini_batch_size\n",
    "        \n",
    "        #Fixed Q target counter\n",
    "        self.target_update_counter = 0 #responsible for updating the target network with the main model\n",
    "        self.UPDATE_TARGET_EVERY = 5\n",
    "    def create_model(self):\n",
    "        model = Sequential() #initialize the model\n",
    "        model.add(layers.Dense(32, activation='relu', input_shape=(self.state_size,)))#dense layer with 32 units\n",
    "        model.add(layers.Dropout(0.2)) #keep_probs = 0.8\n",
    "        model.add(layers.Dense(32, activation='relu')) #dense layer with 32 hidden units\n",
    "        model.add(layers.Dropout(0.2)) #keep_probs = 0.8\n",
    "        model.add(layers.Dense(self.action_size, activation='linear')) #output layer with 4 units\n",
    "        model.compile(loss='mse', optimizer=optimizers.Adam(), metrics=['accuracy'])\n",
    "        return model\n",
    "    \n",
    "    def get_config(self):\n",
    "        return self.model.get_weights()\n",
    "    \n",
    "    def graph_model(self, path=\"model.png\", layer_names=True, shapes=True):\n",
    "        return plot_model(model=self.model, to_file=path, show_layer_names=layer_names, show_shapes=shapes)\n",
    "    \n",
    "    def update_experience_replay(self, transition):\n",
    "        #transition = (state, action, reward, next_state, done) SARS'_done\n",
    "        return self.memory_replay.append(transition) #store observed state-action tuples in replay memory.\n",
    "    \n",
    "    def fetch_Q(self, state):\n",
    "        return self.model.predict(np.array(state).reshape(-1, *state.shape))[0] #Target Q essentially = Q-table.\n",
    "    \n",
    "    def train(self, terminal_state):\n",
    "        \n",
    "        # Start training only if certain number of samples is already saved\n",
    "        if len(self.memory_replay) < self.MIN_MEMORY_REPLAY_SIZE:\n",
    "            return\n",
    "        \n",
    "        minibatch = random.sample(self.memory_replay, self.batch_size) #array of transition tuples\n",
    "        #Remember: tranisition unfolded = (state, action, reward, next_state, done)\n",
    "        states = np.array([transition[0] for transition in minibatch]) \n",
    "        current_Q_list = self.model.predict(states)\n",
    "        \n",
    "        new_current_states = np.array([transition[3] for tranistion in minibatch])\n",
    "        future_Q_list = self.target_model.predict(new_current_states)\n",
    "        \n",
    "        X = []; y = []\n",
    "        \n",
    "        for i, (state, action, reward, next_state, done) in enumerate(minibatch):\n",
    "            #perform SGD in here & update param\n",
    "            \n",
    "            if not done:\n",
    "                sarsa_max = np.argmax(future_Q_list[i]) # q̂(S', A, w) -or- q̂(S', A, ϴ)\n",
    "                td_target = reward + self.gamma*sarsa_max\n",
    "            else:\n",
    "                td_target = reward\n",
    "            \n",
    "            #Update Q value for given state\n",
    "            current_Qs = current_Q_list[i] #get Q(s, a ∈ A)\n",
    "            current_Qs[action] = td_target\n",
    "            \n",
    "            #append to training set\n",
    "            X.append(state)\n",
    "            y.append(current_Qs)\n",
    "            \n",
    "            # Fit on all samples as one batch\n",
    "            self.model.fit(np.array(X), np.array(y), batch_size=self.batch_size, verbose=0, shuffle=False)\n",
    "            \n",
    "            # Update target network counter every episode\n",
    "            if terminal_state:\n",
    "                self.target_update_counter += 1\n",
    "            \n",
    "            # If counter reaches set value, update target network with weights of main network\n",
    "            if self.target_update_counter > self.UPDATE_TARGET_EVERY:\n",
    "                self.target_model.set_weights(self.model.get_weights())\n",
    "                self.target_update_counter = 0\n",
    "\n",
    "    def get_action(self, state, epsilon):\n",
    "        if(np.random.rand() > epsilon): #exploit\n",
    "            action = np.argmax(self.fetch_Q(state))\n",
    "        else: #explore\n",
    "            action = np.random.choice(np.arange(self.action_size))\n",
    "        return action"
   ]
  },
  {
   "cell_type": "code",
   "execution_count": 7,
   "metadata": {},
   "outputs": [],
   "source": [
    "agent = DQNAgent(env)"
   ]
  },
  {
   "cell_type": "code",
   "execution_count": 8,
   "metadata": {},
   "outputs": [
    {
     "data": {
      "image/png": "[encoded data removed]",
      "text/plain": [
       "<IPython.core.display.Image object>"
      ]
     },
     "execution_count": 8,
     "metadata": {},
     "output_type": "execute_result"
    }
   ],
   "source": [
    "agent.graph_model()"
   ]
  },
  {
   "cell_type": "code",
   "execution_count": 9,
   "metadata": {},
   "outputs": [],
   "source": [
    "weights_agent = np.array(agent.get_config())"
   ]
  },
  {
   "cell_type": "code",
   "execution_count": 10,
   "metadata": {},
   "outputs": [],
   "source": [
    "NUM_EPISODES = 150\n",
    "epsilon_start = 1.0\n",
    "epsilon_decay_rate = 0.99\n",
    "epsilon_min = 0.5"
   ]
  },
  {
   "cell_type": "code",
   "execution_count": 11,
   "metadata": {},
   "outputs": [],
   "source": [
    "episode_reward_arr = []"
   ]
  },
  {
   "cell_type": "code",
   "execution_count": null,
   "metadata": {},
   "outputs": [
    {
     "name": "stderr",
     "output_type": "stream",
     "text": [
      " 40%|████      | 60/150 [02:37<17:26, 11.63s/it]"
     ]
    }
   ],
   "source": [
    "epsilon = epsilon_start\n",
    "for episode_num in tqdm(range(1, NUM_EPISODES + 1)):\n",
    "        #Reset episode reward and step count\n",
    "        episode_reward = 0 #reward at the end of each episode (should decrease, otherwise something is wrong)\n",
    "        step = 1\n",
    "        \n",
    "        state = env.reset()\n",
    "        \n",
    "        while True:\n",
    "            action = agent.get_action(state, epsilon)\n",
    "            next_state, reward, done, _ = env.step(action) #step into next state\n",
    "            episode_reward += reward #count reward\n",
    "            \n",
    "            #update experience replay buffer\n",
    "            transition = (state, action, reward, next_state, done) #SARS'_done\n",
    "            agent.update_experience_replay(transition)\n",
    "            \n",
    "            #train the model\n",
    "            agent.train(done)\n",
    "            \n",
    "            #update state and step count\n",
    "            state = next_state\n",
    "            step += 1\n",
    "            \n",
    "            #terminal state reached\n",
    "            if(done):\n",
    "                episode_reward_arr.append(episode_reward)\n",
    "                break\n",
    "        \n",
    "        #Decay epsilon\n",
    "        epsilon *= epsilon_decay_rate\n",
    "        epsilon = max(epsilon, epsilon_min)"
   ]
  },
  {
   "cell_type": "code",
   "execution_count": null,
   "metadata": {},
   "outputs": [],
   "source": [
    "df = pd.DataFrame(data=episode_reward_arr, columns=['Reward'])"
   ]
  },
  {
   "cell_type": "code",
   "execution_count": null,
   "metadata": {},
   "outputs": [],
   "source": [
    "df.plot()"
   ]
  },
  {
   "cell_type": "code",
   "execution_count": null,
   "metadata": {},
   "outputs": [],
   "source": [
    "rolling_mean = df.rolling(10, win_type='triang').sum()"
   ]
  },
  {
   "cell_type": "code",
   "execution_count": null,
   "metadata": {},
   "outputs": [],
   "source": [
    "rolling_mean.plot()"
   ]
  },
  {
   "cell_type": "code",
   "execution_count": null,
   "metadata": {},
   "outputs": [],
   "source": [
    "df.mean()"
   ]
  }
 ],
 "metadata": {
  "kernelspec": {
   "display_name": "Python 3",
   "language": "python",
   "name": "python3"
  },
  "language_info": {
   "codemirror_mode": {
    "name": "ipython",
    "version": 3
   },
   "file_extension": ".py",
   "mimetype": "text/x-python",
   "name": "python",
   "nbconvert_exporter": "python",
   "pygments_lexer": "ipython3",
   "version": "3.7.6"
  }
 },
 "nbformat": 4,
 "nbformat_minor": 4
}
